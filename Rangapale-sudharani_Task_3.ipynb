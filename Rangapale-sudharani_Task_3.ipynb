{
 "cells": [
  {
   "cell_type": "code",
   "execution_count": null,
   "metadata": {},
   "outputs": [],
   "source": [
    "Task 3.1\n",
    "\n",
    "Downloading data from https://viewer.nationalmap.gov/basic/?basemap=b1&category=ned,nedsrc&title=3DEP%20View#productSearch  was very easy compared to other datasets or sites.Downloaded in csv format. "
   ]
  },
  {
   "cell_type": "markdown",
   "metadata": {},
   "source": [
    "![USGC the national map 3DEP View](/notebooks/Desktop/USGC.png)"
   ]
  },
  {
   "cell_type": "code",
   "execution_count": null,
   "metadata": {},
   "outputs": [],
   "source": [
    "Downloaded data from http://www.bgs.ac.uk/downloads/start.cfm?id=3122 .This site gives access to free data,where there is no need to login or register and can download data in zipped files."
   ]
  },
  {
   "cell_type": "markdown",
   "metadata": {},
   "source": [
    "![Mining data](/notebooks/Desktop/Mining.png)"
   ]
  },
  {
   "cell_type": "code",
   "execution_count": null,
   "metadata": {},
   "outputs": [],
   "source": [
    "Task 3.3 \n",
    "\n",
    "It is about downloading any data from Pangaea.de. The data i downloaded is related to atmoshphere worked by Muscari.G in 2018 .It is Ground meteorological data of greeland .The is a zip file consisting 3 datasets.\n"
   ]
  },
  {
   "cell_type": "markdown",
   "metadata": {},
   "source": [
    "\n",
    "  ![Dataset of Muscari_greenland](http://localhost:8888/tree/Desktop/Muscari.png)"
   ]
  },
  {
   "cell_type": "code",
   "execution_count": null,
   "metadata": {},
   "outputs": [],
   "source": []
  }
 ],
 "metadata": {
  "kernelspec": {
   "display_name": "Python 3",
   "language": "python",
   "name": "python3"
  },
  "language_info": {
   "codemirror_mode": {
    "name": "ipython",
    "version": 3
   },
   "file_extension": ".py",
   "mimetype": "text/x-python",
   "name": "python",
   "nbconvert_exporter": "python",
   "pygments_lexer": "ipython3",
   "version": "3.6.5"
  }
 },
 "nbformat": 4,
 "nbformat_minor": 2
}
