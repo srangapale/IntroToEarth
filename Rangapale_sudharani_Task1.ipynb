{
 "cells": [
  {
   "cell_type": "markdown",
   "metadata": {},
   "source": [
    "Task 1.2\n",
    "\n",
    "Plot these 2 lists against each other\n",
    "[1, 4, 14, 16, 10, 132, 7, 4, 6.4, 6.3, 9.3, 23]\n",
    "[9, 11, 3.4, 3.4656, 6, 0.5, 8, 3, 4, 4.4, 6.3, 9.3]\n",
    "Test multiple way to plot (Please check previous notebook for inspiration:\n",
    "Use blue thick dots as symbols for the markers.\n",
    "Use a red line connecting points "
   ]
  },
  {
   "cell_type": "code",
   "execution_count": 1,
   "metadata": {},
   "outputs": [],
   "source": [
    "%matplotlib inline\n",
    "import matplotlib.pyplot as plt\n",
    "import numpy as np\n",
    "\n",
    "x = np.array([1, 4, 14, 16, 10, 132, 7, 4, 6.4, 6.3, 9.3, 23])\n",
    "y = np.array([9, 11, 3.4, 3.4656, 6, 0.5, 8, 3, 4, 4.4, 6.3, 9.3])\n",
    "\n",
    "x.sort()\n",
    "y.sort()"
   ]
  },
  {
   "cell_type": "code",
   "execution_count": 2,
   "metadata": {},
   "outputs": [
    {
     "data": {
      "text/plain": [
       "array([  1. ,   4. ,   4. ,   6.3,   6.4,   7. ,   9.3,  10. ,  14. ,\n",
       "        16. ,  23. , 132. ])"
      ]
     },
     "execution_count": 2,
     "metadata": {},
     "output_type": "execute_result"
    }
   ],
   "source": [
    "x"
   ]
  },
  {
   "cell_type": "code",
   "execution_count": 3,
   "metadata": {},
   "outputs": [
    {
     "data": {
      "text/plain": [
       "array([ 0.5   ,  3.    ,  3.4   ,  3.4656,  4.    ,  4.4   ,  6.    ,\n",
       "        6.3   ,  8.    ,  9.    ,  9.3   , 11.    ])"
      ]
     },
     "execution_count": 3,
     "metadata": {},
     "output_type": "execute_result"
    }
   ],
   "source": [
    "y"
   ]
  },
  {
   "cell_type": "code",
   "execution_count": 4,
   "metadata": {},
   "outputs": [],
   "source": [
    "markers_on = [1, 4, 7, 10, 14, 16, 23, 132]"
   ]
  },
  {
   "cell_type": "code",
   "execution_count": 10,
   "metadata": {},
   "outputs": [
    {
     "data": {
      "image/png": "[encoded data removed]",
      "text/plain": [
       "<Figure size 432x288 with 1 Axes>"
      ]
     },
     "metadata": {},
     "output_type": "display_data"
    }
   ],
   "source": [
    "# figure\n",
    "fig = plt.figure()\n",
    "\n",
    "# subplot\n",
    "ax1 = fig.add_subplot(111)\n",
    "\n",
    "# plot line\n",
    "ax1.plot(x, y, 'r', color='b')\n",
    "\n",
    "# plot markers on top\n",
    "ax1.plot(x, y, marker='o', color='r', ls='')\n",
    "\n",
    "plt.xlabel('X label')\n",
    "plt.ylabel('Y label')\n",
    "\n",
    "# set x range\n",
    "plt.xlim([1,132])\n",
    "plt.ylim([0.5,11.5])\n",
    "\n",
    "# tik location\n",
    "plt.xticks([10,20,30,40,50,60,70,80,90,100,110,120,130,140])\n",
    "\n",
    "\n",
    "# label rotation (try that out..)\n",
    "locs, labels = plt.xticks()\n",
    "plt.setp(labels, rotation=50)\n",
    "\n",
    "# labels positioning and customising\n",
    "fig.canvas.draw()\n",
    "\n",
    "# show plot inline\n",
    "plt.show()"
   ]
  },
  {
   "cell_type": "code",
   "execution_count": null,
   "metadata": {},
   "outputs": [],
   "source": []
  }
 ],
 "metadata": {
  "kernelspec": {
   "display_name": "Python 3",
   "language": "python",
   "name": "python3"
  },
  "language_info": {
   "codemirror_mode": {
    "name": "ipython",
    "version": 3
   },
   "file_extension": ".py",
   "mimetype": "text/x-python",
   "name": "python",
   "nbconvert_exporter": "python",
   "pygments_lexer": "ipython3",
   "version": "3.6.5"
  }
 },
 "nbformat": 4,
 "nbformat_minor": 2
}
