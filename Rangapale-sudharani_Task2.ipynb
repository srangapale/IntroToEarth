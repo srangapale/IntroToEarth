{
 "cells": [
  {
   "cell_type": "markdown",
   "metadata": {},
   "source": [
    "TASK 2.1\n",
    "\n",
    "please inspect the web services above. Document with screenshot and short description (1 sentence) of how the interface looks like. Please document your impression on the ease of use.\n",
    "       "
   ]
  },
  {
   "cell_type": "markdown",
   "metadata": {},
   "source": [
    "Web services:\n",
    "    \n",
    "1 https://giovanni.gsfc.nasa.gov/giovanni/ \n",
    "    \n",
    "    This web service is very easy to access.After clicking on Link the layout gives option to make choices for map ,comparisons ,vertical ,Time series and Miscellaneous and also we can select variables.\n",
    "      "
   ]
  },
  {
   "cell_type": "markdown",
   "metadata": {},
   "source": [
    " ![NASA Ocean Biogeochemical Model global map](/notebooks/Desktop/Gio.png)"
   ]
  },
  {
   "cell_type": "markdown",
   "metadata": {},
   "source": [
    " 2 http://oceanmotion.org/html/resources/oscar.htm\n",
    "    \n",
    "    This web services is also easy to Access and visualize the data with wide range of options to select the region ,in which way you want to see data(Graph or table), Parameters ,and year and month for pop up on map .Select region ,here region is Eq.Indian and parameter Direction from year 1992 and month october, the data looks like below picture and data can be downloded accordingly.\n",
    "    \n",
    " \n",
    "    \n",
    "    \n",
    "    "
   ]
  },
  {
   "cell_type": "markdown",
   "metadata": {},
   "source": [
    "   ![Visualization of Ocean Motion web service](/notebooks/Desktop/Oceanmotion.png)"
   ]
  },
  {
   "cell_type": "markdown",
   "metadata": {},
   "source": [
    "3 https://www.unavco.org/software/visualization/GPS-Velocity-Viewer/GPS-Velocity-Viewer.html \n",
    "    \n",
    "    This is another web service to download data which gives exposure to GPS velocity Viewer ,Jules Verne Voyager ,Google Earth and gps time series plotter .It is useful for both mapping making and downloading data of different surfaces on earth collected from different instruments.\n",
    "    \n",
    "    \n",
    "   "
   ]
  },
  {
   "cell_type": "markdown",
   "metadata": {},
   "source": [
    "![Visualization of GPS Velocity Viewer](/notebooks/Desktop/GPS.png)"
   ]
  },
  {
   "cell_type": "markdown",
   "metadata": {},
   "source": [
    " 4  http://www.globalfloods.eu/accounts/login/?next=/glofas-forecasting/\n",
    "    \n",
    "        This services is not open source ,Need to signup and then access the data .GLOFAS is the global flood service of european  commission copernicus emergency Management services ,which monitors and forecasts floods across the world.\n",
    "        \n",
    "        \n",
    "       "
   ]
  },
  {
   "cell_type": "markdown",
   "metadata": {},
   "source": [
    "![Visualization of Copernicus](/notebooks/Desktop/copernicus.png)"
   ]
  },
  {
   "cell_type": "code",
   "execution_count": null,
   "metadata": {},
   "outputs": [],
   "source": [
    " 5  https://crustal.usgs.gov/speclab/QueryAll07a.php\n",
    "    \n",
    "    This website consists of data around USA collected from lab ,field and imaging spectrometers which gives easy access to data description ,plots of data and also easy download of full data of any region  in USA or any category of data(Vegetation,minerals etc)  \n",
    "    \n",
    "    \n",
    "   \n",
    "    \n",
    "   "
   ]
  },
  {
   "cell_type": "markdown",
   "metadata": {},
   "source": [
    " ![plot of Antigorite of Colorado,USA](/notebooks/Desktop/splib07a_Antigorite+.2DryGrass_AMX26_ASDFRa_AREF.gif)"
   ]
  },
  {
   "cell_type": "code",
   "execution_count": null,
   "metadata": {},
   "outputs": [],
   "source": [
    " \n",
    "    6. http://www.eodataservice.org/\n",
    "    \n",
    "    This webservice is a Digital Earth making global environment where data is findable , Accessible ,interoperable and reusable. \n",
    "        \n",
    "    "
   ]
  },
  {
   "cell_type": "markdown",
   "metadata": {},
   "source": [
    " ![Visualization of EO data service](/notebooks/Desktop/EO.png)"
   ]
  },
  {
   "cell_type": "code",
   "execution_count": null,
   "metadata": {},
   "outputs": [],
   "source": [
    "Task 2.2\n",
    "\n",
    "Please list the advantages and disadvantages of each web interface you encountered. A bullet list is appropriate.\n"
   ]
  },
  {
   "cell_type": "code",
   "execution_count": null,
   "metadata": {},
   "outputs": [],
   "source": [
    "Giovanni:\n",
    "    Advantage : Easy to find map for any region , Date and can select any variables and then plot the data or map. \n",
    "    Disadvantage : Hard to pick data if details of data are unknown.\n",
    "\n",
    "eodataservice:\n",
    "    Advantage:\n",
    "        Provide use to web based ,jupyter notebook and OGC complaint .\n",
    "        \n",
    "    Disadvantages :\n",
    "        Not open source ,can access data on request.\n",
    "        \n",
    "OceanMotion:\n",
    "    Advantage:Easy to filter the data(According to the region of interest)\n",
    "    Disadvantage:Data can be downloaded only in the form of graph and tables.\n",
    "        \n",
    "Unavco:\n",
    "    Advantages:It is free and open data archive and Can also request for customised data.\n",
    "    Disadvantages: Takes time to download data.\n",
    "    \n",
    "Copernicus:\n",
    "   Advantages :Data is available in all formats.\n",
    "   Disadvantges :Its not open source ,need to register before downloading data.\n",
    "            \n"
   ]
  },
  {
   "cell_type": "markdown",
   "metadata": {},
   "source": [
    "Task 2.3  \n",
    "Please download and install any two of the GUI tools (e..g for opening HDF or netCDF) listed above and in the resources. Please open any data product, document with screenshots and describe eventual difficulties.\n"
   ]
  },
  {
   "cell_type": "markdown",
   "metadata": {},
   "source": [
    "Downloaded Veusz ,imported point3d csv file and plotted it. This software is Easy to download and import data but hard to analyse data using the properties of this software.\n",
    "\n",
    " "
   ]
  },
  {
   "cell_type": "markdown",
   "metadata": {},
   "source": [
    "![layout of Veusz](/notebooks/Desktop/Veusz.png)\n"
   ]
  },
  {
   "cell_type": "code",
   "execution_count": null,
   "metadata": {},
   "outputs": [],
   "source": [
    "Downloaded Panapoly and plotted netcdf file .Panapoly is easy to use and can plot data of GRIB,GEMPAK ,HDF,NETCDF and alos color table datasets."
   ]
  },
  {
   "cell_type": "markdown",
   "metadata": {},
   "source": [
    "![layout of Panapoly](/notebooks/Desktop/panpol.png)"
   ]
  },
  {
   "cell_type": "code",
   "execution_count": null,
   "metadata": {},
   "outputs": [],
   "source": []
  }
 ],
 "metadata": {
  "kernelspec": {
   "display_name": "Python 3",
   "language": "python",
   "name": "python3"
  },
  "language_info": {
   "codemirror_mode": {
    "name": "ipython",
    "version": 3
   },
   "file_extension": ".py",
   "mimetype": "text/x-python",
   "name": "python",
   "nbconvert_exporter": "python",
   "pygments_lexer": "ipython3",
   "version": "3.6.5"
  }
 },
 "nbformat": 4,
 "nbformat_minor": 2
}
